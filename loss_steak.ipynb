{
 "cells": [
  {
   "cell_type": "markdown",
   "id": "14eda592-e883-4bcf-bc85-08b985a03758",
   "metadata": {
    "tags": []
   },
   "source": [
    "# How to accept long losing steaks"
   ]
  },
  {
   "cell_type": "code",
   "execution_count": 1,
   "id": "8c7cb588-542c-4a4c-880d-a69cb9f62e6f",
   "metadata": {},
   "outputs": [
    {
     "name": "stdout",
     "output_type": "stream",
     "text": [
      "[{'outcomes': {'true': 207, 'false': 256}, 'steaks': {'9': 1, '7': 4, '6': 2, '5': 4, '4': 5, '3': 19, '2': 27, '1': 54}}, {'outcomes': {'true': 108, 'false': 93}, 'steaks': {'4': 3, '3': 7, '2': 13, '1': 34}}, {'outcomes': {'true': 56, 'false': 64}, 'steaks': {'7': 1, '5': 1, '4': 4, '3': 3, '2': 8, '1': 11}}, {'outcomes': {'true': 89, 'false': 97}, 'steaks': {'7': 1, '5': 1, '4': 2, '3': 9, '2': 11, '1': 28}}, {'outcomes': {'true': 127, 'false': 141}, 'steaks': {'8': 1, '7': 1, '5': 4, '4': 5, '3': 6, '2': 17, '1': 33}}]\n"
     ]
    }
   ],
   "source": [
    "import json\n",
    "\n",
    "data = []\n",
    "with open(\"loss_steak.json\", 'r') as file_handler:\n",
    "    data = json.loads(file_handler.read())\n",
    "    \n",
    "print(data[:5])"
   ]
  },
  {
   "cell_type": "code",
   "execution_count": 2,
   "id": "6c22e1bb-312f-4a0d-b7fe-0c187629712f",
   "metadata": {},
   "outputs": [],
   "source": [
    "%matplotlib widget\n",
    "import matplotlib.pyplot as plt"
   ]
  },
  {
   "cell_type": "markdown",
   "id": "51616885-0834-404b-9eda-616da57636c9",
   "metadata": {},
   "source": [
    "# Histogram with differences between wins and loses."
   ]
  },
  {
   "cell_type": "code",
   "execution_count": 3,
   "id": "1814df0e-d708-4625-a2fa-77ef5bfa7dbb",
   "metadata": {},
   "outputs": [
    {
     "data": {
      "application/vnd.jupyter.widget-view+json": {
       "model_id": "56ba0b2339124fe194f77bc091cfcf1d",
       "version_major": 2,
       "version_minor": 0
      },
      "text/plain": [
       "Canvas(toolbar=Toolbar(toolitems=[('Home', 'Reset original view', 'home', 'home'), ('Back', 'Back to previous …"
      ]
     },
     "metadata": {},
     "output_type": "display_data"
    },
    {
     "data": {
      "text/plain": [
       "(array([0.00384615, 0.00096154, 0.00865385, 0.01538462, 0.02596154,\n",
       "        0.02115385, 0.01153846, 0.00673077, 0.00096154, 0.00096154]),\n",
       " array([-49. , -38.6, -28.2, -17.8,  -7.4,   3. ,  13.4,  23.8,  34.2,\n",
       "         44.6,  55. ]),\n",
       " <BarContainer object of 10 artists>)"
      ]
     },
     "execution_count": 3,
     "metadata": {},
     "output_type": "execute_result"
    }
   ],
   "source": [
    "diff = []\n",
    "for item in data:\n",
    "    diff.append(item['outcomes']['true'] - item['outcomes']['false'])\n",
    "\n",
    "plt.figure()\n",
    "plt.hist(diff, 10, density=True)"
   ]
  },
  {
   "cell_type": "markdown",
   "id": "778ab571-057d-4e9b-9759-c30c96983e31",
   "metadata": {},
   "source": [
    "# Length of win/loss steaks"
   ]
  },
  {
   "cell_type": "code",
   "execution_count": 4,
   "id": "1469b027-4b9d-4a7d-89e9-73b6cfbc1554",
   "metadata": {},
   "outputs": [
    {
     "name": "stdout",
     "output_type": "stream",
     "text": [
      "Loss steak length:  (10, 9, 8, 7, 6, 5, 4, 3, 2, 1)\n",
      "Loss steak number:  (5, 14, 28, 57, 121, 230, 466, 954, 1905, 3892)\n"
     ]
    }
   ],
   "source": [
    "import operator\n",
    "\n",
    "loss_y = []  # length of loss steaks\n",
    "loss_x = []  # number of loss steaks\n",
    "\n",
    "aggregated_data = {}\n",
    "for item in data:\n",
    "    for length, number in item['steaks'].items():\n",
    "        if int(length) in aggregated_data:\n",
    "            aggregated_data[int(length)] += number\n",
    "        else:\n",
    "            aggregated_data[int(length)] = 0 + number\n",
    "            \n",
    "so = sorted(aggregated_data.items(), key=operator.itemgetter(0), reverse=True)\n",
    "\n",
    "loss_y, loss_x = list(zip(*so))\n",
    "\n",
    "print(\"Loss steak length: \", loss_y)\n",
    "print(\"Loss steak number: \", loss_x)\n",
    "\n"
   ]
  },
  {
   "cell_type": "code",
   "execution_count": 6,
   "id": "fab13208-c99c-4e76-b3ed-a13149d065a8",
   "metadata": {
    "tags": []
   },
   "outputs": [
    {
     "data": {
      "application/vnd.jupyter.widget-view+json": {
       "model_id": "0d316d1980ba4649b07587690b1330f5",
       "version_major": 2,
       "version_minor": 0
      },
      "text/plain": [
       "Canvas(toolbar=Toolbar(toolitems=[('Home', 'Reset original view', 'home', 'home'), ('Back', 'Back to previous …"
      ]
     },
     "metadata": {},
     "output_type": "display_data"
    },
    {
     "data": {
      "text/plain": [
       "<BarContainer object of 8 artists>"
      ]
     },
     "execution_count": 6,
     "metadata": {},
     "output_type": "execute_result"
    }
   ],
   "source": [
    "plt.figure()\n",
    "# remove 1 and 2 length steaks\n",
    "plt.barh(loss_y[:-2], loss_x[:-2], align='center')"
   ]
  }
 ],
 "metadata": {
  "kernelspec": {
   "display_name": "Python 3 (ipykernel)",
   "language": "python",
   "name": "python3"
  },
  "language_info": {
   "codemirror_mode": {
    "name": "ipython",
    "version": 3
   },
   "file_extension": ".py",
   "mimetype": "text/x-python",
   "name": "python",
   "nbconvert_exporter": "python",
   "pygments_lexer": "ipython3",
   "version": "3.9.6"
  }
 },
 "nbformat": 4,
 "nbformat_minor": 5
}
